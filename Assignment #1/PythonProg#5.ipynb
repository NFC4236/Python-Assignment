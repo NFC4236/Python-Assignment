{
 "cells": [
  {
   "cell_type": "code",
   "execution_count": 15,
   "id": "0136eb51",
   "metadata": {},
   "outputs": [
    {
     "name": "stdout",
     "output_type": "stream",
     "text": [
      "Enter FIRST and LAST Name : \n",
      "AMARA KHAN\n",
      "NAHK ARAMA\n"
     ]
    }
   ],
   "source": [
    "print(\"Enter FIRST and LAST Name : \")\n",
    "NameStr=str(input())\n",
    "LengthOfString=len(NameStr)\n",
    "ReverseOfString=NameStr[LengthOfString::-1]\n",
    "print(ReverseOfString)\n",
    "\n"
   ]
  },
  {
   "cell_type": "code",
   "execution_count": null,
   "id": "66d9d352",
   "metadata": {},
   "outputs": [],
   "source": []
  }
 ],
 "metadata": {
  "kernelspec": {
   "display_name": "Python 3 (ipykernel)",
   "language": "python",
   "name": "python3"
  },
  "language_info": {
   "codemirror_mode": {
    "name": "ipython",
    "version": 3
   },
   "file_extension": ".py",
   "mimetype": "text/x-python",
   "name": "python",
   "nbconvert_exporter": "python",
   "pygments_lexer": "ipython3",
   "version": "3.9.7"
  }
 },
 "nbformat": 4,
 "nbformat_minor": 5
}
